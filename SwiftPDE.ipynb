{
 "cells": [
  {
   "cell_type": "code",
   "execution_count": 1,
   "id": "076fd1ca",
   "metadata": {},
   "outputs": [],
   "source": [
    "\n",
    "import numpy as np\n",
    "import matplotlib\n",
    "import matplotlib.pyplot as plt\n",
    "import matplotlib.animation as animation\n",
    "import scipy\n",
    "from scipy import sparse\n",
    "from scipy.sparse import linalg as spla\n",
    "from IPython.display import clear_output\n",
    "import spectral\n",
    "\n",
    "\n",
    "\n",
    "def plot_2D_field(xm, ym, data):\n",
    "    fig = plt.figure(figsize=(5,5))\n",
    "    ax = fig.add_subplot(111)\n",
    "   \n",
    "    cmap_reversed = matplotlib.cm.get_cmap('RdBu_r')\n",
    "    pcm = ax.pcolormesh(xm, ym, data,cmap=cmap_reversed,vmax=5,vmin=-5)\n",
    "    plt.ylabel('y')\n",
    "    plt.xlabel('x')\n",
    "    ax.set_aspect(1)\n",
    "    fig.colorbar(pcm)\n",
    "    ax.set_xlabel('x')\n",
    "    ax.set_ylabel('y')\n",
    "    plt.tight_layout()"
   ]
  },
  {
   "cell_type": "markdown",
   "id": "998c69ac",
   "metadata": {},
   "source": [
    "### Set initial conditions"
   ]
  },
  {
   "cell_type": "code",
   "execution_count": 2,
   "id": "1d1bcd1b",
   "metadata": {},
   "outputs": [],
   "source": [
    "\n",
    "N = 256\n",
    "Len = 50\n",
    "dt = 5e-3\n",
    "epsilon = 1\n",
    "g=1\n",
    "rng = np.random.default_rng(seed=42)\n",
    "INITIAL = (rng.random((N, N)))*0.3\n",
    "total = 2000\n",
    "gif = False\n"
   ]
  },
  {
   "cell_type": "code",
   "execution_count": 3,
   "id": "3622611b",
   "metadata": {},
   "outputs": [
    {
     "name": "stdout",
     "output_type": "stream",
     "text": [
      "[0, 50]\n"
     ]
    }
   ],
   "source": [
    "\n",
    "\n",
    "\n",
    "\n",
    "y_basis = spectral.Chebyshev(N,[0,Len])\n",
    "x_basis = spectral.Fourier(N,[0,Len])\n",
    "\n",
    "c = spectral.Field([x_basis, y_basis])\n",
    "cy = spectral.Field([x_basis, y_basis])\n",
    "c_RHS = spectral.Field([x_basis, y_basis])\n",
    "cy_RHS = spectral.Field([x_basis, y_basis])\n",
    "cyy = spectral.Field([x_basis, y_basis])\n",
    "cyy_RHS = spectral.Field([x_basis, y_basis])\n",
    "cyyy = spectral.Field([x_basis, y_basis])\n",
    "cyyy_RHS = spectral.Field([x_basis, y_basis])\n",
    "x = x_basis.grid()[:, None]\n",
    "\n",
    "y = y_basis.grid()[None,:]\n",
    "y = np.linspace(0,Len,N, endpoint=True)\n",
    "xm, ym = np.meshgrid(x.ravel(), y.ravel())\n",
    "\n",
    "alpha = 0.5*(y_basis.interval[-1] - y_basis.interval[0]) \n",
    "\n"
   ]
  },
  {
   "cell_type": "code",
   "execution_count": 4,
   "id": "b80763ec",
   "metadata": {},
   "outputs": [],
   "source": [
    "problem = spectral.InitialValueProblem([c, cy,cyy,cyyy], [c_RHS, cy_RHS,cyy_RHS,cyyy_RHS], num_BCs=8)\n",
    "diag = (np.arange(N-1)+1)/alpha \n",
    "D = sparse.diags(diag, offsets=1)\n",
    "\n",
    "diag0 = np.ones(N)/2\n",
    "diag0[0] = 1\n",
    "diag2 = -np.ones(N-2)/2\n",
    "C = sparse.diags((diag0, diag2), offsets=(0,2))\n",
    "\n",
    "Z = sparse.csr_matrix((N, N))"
   ]
  },
  {
   "cell_type": "code",
   "execution_count": 5,
   "id": "06b13f72",
   "metadata": {},
   "outputs": [
    {
     "name": "stderr",
     "output_type": "stream",
     "text": [
      "c:\\Users\\gonza\\AppData\\Local\\Programs\\Python\\Python310\\lib\\site-packages\\scipy\\sparse\\_index.py:137: SparseEfficiencyWarning: Changing the sparsity structure of a csr_matrix is expensive. lil_matrix is more efficient.\n",
      "  self._set_arrayXarray_sparse(i, j, x)\n"
     ]
    }
   ],
   "source": [
    "\n",
    "for sp in problem.subproblems:\n",
    "    n = sp.wavenumbers[0]\n",
    "    \n",
    "    sp.M = sparse.csr_matrix((8*N+8, 8*N+8))\n",
    "    sp.M[6*N:7*N, :N] = C\n",
    "    sp.M[7*N:8*N, N:2*N] = C\n",
    "    sp.M.eliminate_zeros()\n",
    "    \n",
    "    L = sparse.bmat([[       D,        Z,   -C,    Z,   Z,  Z,  Z,  Z],\n",
    "                     [       Z,        D,    Z,   -C,   Z,  Z,  Z,  Z],\n",
    "                     [       Z,        Z,    D,   Z,   -C,  Z,  Z,  Z],\n",
    "                     [       Z,        Z,    Z,   D,   Z,  -C,  Z,  Z],\n",
    "                     [       Z,        Z,    Z,   Z,   D,  Z,  -C,  Z],\n",
    "                     [       Z,        Z,    Z,   Z,   Z,  D,  Z,  -C],\n",
    "                     [-C*2*n**2+C*n**4-(epsilon-1)*C,        Z, 2*D,   Z,-2*C*n**2,Z,D,Z],\n",
    "                     [       Z, -C*2*n**2+C*n**4-(epsilon-1)*C,    Z,  2*D,Z,-C*2*n**2,Z,D]])\n",
    "    \n",
    "    i = np.arange(N)\n",
    "    BC_rows = np.zeros((8, 8*N))\n",
    " \n",
    "    BC_rows[0, :N] = (-1)**i\n",
    "    BC_rows[1, :N] = (+1)**i\n",
    "    BC_rows[2, N:2*N] = (-1)**i\n",
    "    BC_rows[3, N:2*N] = (+1)**i\n",
    "    BC_rows[4, 2*N:3*N] = (-1)**i\n",
    "    BC_rows[5, 2*N:3*N] = (+1)**i\n",
    "    BC_rows[6, 3*N:4*N] = (-1)**i\n",
    "    BC_rows[7, 3*N:4*N] = (+1)**i\n",
    "  \n",
    "    \n",
    "    cols = np.zeros((8*N,8))\n",
    "    cols[  N-1, 0] = 1\n",
    "    cols[2*N-1, 1] = 1\n",
    "    cols[3*N-1, 2] = 1\n",
    "    cols[4*N-1, 3] = 1\n",
    "    cols[5*N-1, 4] = 1\n",
    "    cols[6*N-1, 5] = 1\n",
    "    cols[7*N-1, 6] = 1\n",
    "    cols[8*N-1, 7] = 1\n",
    "\n",
    "    \n",
    "    \n",
    "    corner = np.zeros((8,8))\n",
    "    \n",
    "    sp.L = sparse.bmat([[L, cols],\n",
    "                        [BC_rows, corner]])\n",
    "    \n",
    "    sp.L.eliminate_zeros()"
   ]
  },
  {
   "cell_type": "code",
   "execution_count": 6,
   "id": "d61b2a1b",
   "metadata": {},
   "outputs": [
    {
     "data": {
      "image/png": "[encoded data removed]",
      "text/plain": [
       "<Figure size 432x288 with 1 Axes>"
      ]
     },
     "metadata": {
      "needs_background": "light"
     },
     "output_type": "display_data"
    }
   ],
   "source": [
    "ts = spectral.SBDF2(problem)\n",
    "c.require_grid_space()\n",
    "\n",
    "\n",
    "c.data = INITIAL\n",
    "c.require_grid_space()\n",
    "\n",
    "\n",
    "if gif == True:\n",
    "    ims = []\n",
    "    fig = plt.figure(figsize=(10,10))\n",
    "    cmap_reversed = matplotlib.cm.get_cmap('RdBu_r')\n",
    "    ax = fig.subplots(1)\n",
    "\n",
    "    \n",
    "\n",
    "\n",
    "\n",
    "c.require_coeff_space()\n",
    "cyyy_RHS.require_coeff_space()\n",
    "\n",
    "BCs = np.array([0,0,0,0,0,0,0,0])\n",
    "\n",
    "for i in range(total):\n",
    "    c.require_grid_space(scales=2)\n",
    "    cyyy_RHS.require_grid_space(scales=2)\n",
    "        \n",
    "    cyyy_RHS.data = g*c.data**2-c.data**3\n",
    "    cyyy_RHS.require_coeff_space()\n",
    "    cyyy_RHS.data = spectral.apply_matrix(C, cyyy_RHS.data, axis=1)\n",
    "\n",
    "    ts.step(dt, BCs)\n",
    "    \n",
    "\n",
    "   \n",
    "\n",
    "    c.require_grid_space()\n",
    "\n",
    "\n",
    "    if gif==True:\n",
    "        im = ax.imshow(c.data.T, animated=True,cmap=cmap_reversed)\n",
    "        ims.append([im])\n",
    "    \n",
    "    else:\n",
    "\n",
    "        title = plt.title('t=%f' %ts.time)\n",
    "        plot_2D_field(xm,ym,c.data.T)\n",
    "        title = plt.title('t=%f' %ts.time)\n",
    "        plt.savefig('test'+str(i)+'.png')\n",
    "        plt.close()\n",
    "\n",
    "if gif == True:\n",
    "    ani = animation.ArtistAnimation(fig, ims, interval=50, blit=True,\n",
    "                                    repeat_delay=1000)\n",
    "    writergif = animation.PillowWriter(fps=30)\n",
    "    ani.save('filename.gif',writer=writergif)\n",
    "    \n",
    "        \n",
    "   \n",
    "        "
   ]
  },
  {
   "cell_type": "code",
   "execution_count": null,
   "id": "3b1f87f3",
   "metadata": {},
   "outputs": [],
   "source": []
  }
 ],
 "metadata": {
  "kernelspec": {
   "display_name": "Python 3",
   "language": "python",
   "name": "python3"
  },
  "language_info": {
   "codemirror_mode": {
    "name": "ipython",
    "version": 3
   },
   "file_extension": ".py",
   "mimetype": "text/x-python",
   "name": "python",
   "nbconvert_exporter": "python",
   "pygments_lexer": "ipython3",
   "version": "3.10.5"
  }
 },
 "nbformat": 4,
 "nbformat_minor": 5
}
