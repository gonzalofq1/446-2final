{
 "cells": [
  {
   "cell_type": "code",
   "execution_count": 20,
   "id": "076fd1ca",
   "metadata": {},
   "outputs": [],
   "source": [
    "\n",
    "import numpy as np\n",
    "import matplotlib\n",
    "import matplotlib.pyplot as plt\n",
    "import matplotlib.animation as animation\n",
    "import scipy\n",
    "from scipy import sparse\n",
    "from scipy.sparse import linalg as spla\n",
    "from IPython.display import clear_output\n",
    "import spectral\n",
    "import matplotlib.pyplot as plt\n",
    "import numpy as np\n",
    "\n",
    "import matplotlib.animation as animation\n",
    "\n",
    "def plot_2D_field(xm, ym, data):\n",
    "    fig = plt.figure(figsize=(14,14))\n",
    "    ax = fig.add_subplot(111)\n",
    "   \n",
    "    cmap_reversed = matplotlib.cm.get_cmap('RdBu_r')\n",
    "    pcm = ax.pcolormesh(xm, ym, data,cmap=cmap_reversed)\n",
    "    ax.set_aspect(1)\n",
    "    fig.colorbar(pcm)\n",
    "    ax.set_xlabel('x')\n",
    "    ax.set_ylabel('y')\n",
    "    plt.tight_layout()"
   ]
  },
  {
   "cell_type": "markdown",
   "metadata": {},
   "source": [
    "## 2D IVP"
   ]
  },
  {
   "cell_type": "code",
   "execution_count": 21,
   "id": "9d9b2634",
   "metadata": {},
   "outputs": [],
   "source": [
    "\n",
    "def run(N,LEN):\n",
    "    y_basis = spectral.Chebyshev(N,[0,LEN])\n",
    "    x_basis = spectral.Fourier(N,[0,LEN])\n",
    "\n",
    "    c = spectral.Field([x_basis, y_basis])\n",
    "    cy = spectral.Field([x_basis, y_basis])\n",
    "    c_RHS = spectral.Field([x_basis, y_basis])\n",
    "    cy_RHS = spectral.Field([x_basis, y_basis])\n",
    "    cyy = spectral.Field([x_basis, y_basis])\n",
    "    cyy_RHS = spectral.Field([x_basis, y_basis])\n",
    "    cyyy = spectral.Field([x_basis, y_basis])\n",
    "    cyyy_RHS = spectral.Field([x_basis, y_basis])\n",
    "    x = x_basis.grid()[:, None]\n",
    "\n",
    "    y = y_basis.grid()[None,:]\n",
    "    y = np.linspace(-LEN,LEN,N, endpoint=True)\n",
    "    xm, ym = np.meshgrid(x.ravel(), y.ravel())\n",
    "\n",
    "    alpha = 0.5*(y_basis.interval[-1] - y_basis.interval[0]) \n",
    "\n",
    "    dt = 1e-3\n",
    "\n",
    "\n",
    "    problem = spectral.InitialValueProblem([c, cy,cyy,cyyy], [c_RHS, cy_RHS,cyy_RHS,cyyy_RHS], num_BCs=8)\n",
    "\n",
    "    diag = (np.arange(N-1)+1)/alpha \n",
    "    D = sparse.diags(diag, offsets=1)\n",
    "\n",
    "    diag0 = np.ones(N)/2\n",
    "    diag0[0] = 1\n",
    "    diag2 = -np.ones(N-2)/2\n",
    "    C = sparse.diags((diag0, diag2), offsets=(0,2))\n",
    "\n",
    "    Z = sparse.csr_matrix((N, N))\n",
    "\n",
    "    par = 1 \n",
    "\n",
    "    for sp in problem.subproblems:\n",
    "        n = sp.wavenumbers[0]\n",
    "        \n",
    "        sp.M = sparse.csr_matrix((8*N+8, 8*N+8))\n",
    "        sp.M[6*N:7*N, :N] = C\n",
    "        sp.M[7*N:8*N, N:2*N] = C\n",
    "        sp.M.eliminate_zeros()\n",
    "        par = 1.4\n",
    "        \n",
    "        L = sparse.bmat([[       D,        Z,   -C,    Z,   Z,  Z,  Z,  Z],\n",
    "                        [       Z,        D,    Z,   -C,   Z,  Z,  Z,  Z],\n",
    "                        [       Z,        Z,    D,   Z,   -C,  Z,  Z,  Z],\n",
    "                        [       Z,        Z,    Z,   D,   Z,  -C,  Z,  Z],\n",
    "                        [       Z,        Z,    Z,   Z,   D,  Z,  -C,  Z],\n",
    "                        [       Z,        Z,    Z,   Z,   Z,  D,  Z,  -C],\n",
    "                        [(-C*2*n**2+C*n**4)-par*C+C,        Z, Z,   Z,(-2*C*n**2)+2*C,Z,D,Z],\n",
    "                        [       Z, (-C*2*n**2+C*n**4)-par*C+C,    Z,  Z,Z,(-C*2*n**2)+2*C,Z,D]])\n",
    "        \n",
    "        \n",
    "            \n",
    "        i = np.arange(N)\n",
    "        BC_rows = np.zeros((8, 8*N))\n",
    "    \n",
    "        BC_rows[0, :N] = (-1)**i\n",
    "        BC_rows[1, :N] = (+1)**i\n",
    "        BC_rows[2, N:2*N] = (-1)**i\n",
    "        BC_rows[3, N:2*N] = (+1)**i\n",
    "        BC_rows[4, 2*N:3*N] = (-1)**i\n",
    "        BC_rows[5, 2*N:3*N] = (+1)**i\n",
    "        BC_rows[6, 3*N:4*N] = (-1)**i\n",
    "        BC_rows[7, 3*N:4*N] = (+1)**i\n",
    "    \n",
    "        \n",
    "        cols = np.zeros((8*N,8))\n",
    "        cols[  N-1, 0] = 1\n",
    "        cols[2*N-1, 1] = 1\n",
    "        cols[3*N-1, 2] = 1\n",
    "        cols[4*N-1, 3] = 1\n",
    "        cols[5*N-1, 4] = 1\n",
    "        cols[6*N-1, 5] = 1\n",
    "        cols[7*N-1, 6] = 1\n",
    "        cols[8*N-1, 7] = 1\n",
    "\n",
    "        \n",
    "        \n",
    "        corner = np.zeros((8,8))\n",
    "        \n",
    "        sp.L = sparse.bmat([[L, cols],\n",
    "                            [BC_rows, corner]])\n",
    "        \n",
    "        sp.L.eliminate_zeros()\n",
    "\n",
    "\n",
    "\n",
    "    ts = spectral.SBDF2(problem)\n",
    "    c.require_grid_space()\n",
    "    rng = np.random.default_rng(seed=420)\n",
    "    c.data = np.ones([N,N])\n",
    "    c.require_grid_space()\n",
    "    ims = []\n",
    "    \n",
    "    #fig = plt.figure(figsize=(10,10))\n",
    "    cmap_reversed = matplotlib.cm.get_cmap('RdBu_r')\n",
    "    #ax = fig.subplots(1)\n",
    "\n",
    "    #pcm = ax.pcolormesh(xm, ym, c.data.T, cmap='RdBu', vmax=1)\n",
    "    #ax.set_aspect(1)\n",
    "    #fig.canvas.draw()\n",
    "    #title = plt.title('t=%f' %ts.time)\n",
    "\n",
    "    c.require_coeff_space()\n",
    "    cyyy_RHS.require_coeff_space()\n",
    "\n",
    "    BCs = np.array([0,0,0,0,0,0,0,0])\n",
    "\n",
    "    for i in range(1000):\n",
    "        c.require_coeff_space()\n",
    "        cyyy_RHS.require_coeff_space()\n",
    "        c.require_grid_space(scales=2)\n",
    "        cyyy_RHS.require_grid_space(scales=2)\n",
    "            \n",
    "        cyyy_RHS.data = 1*c.data**2-1*c.data**3\n",
    "        cyyy_RHS.require_coeff_space()\n",
    "        cyyy_RHS.data = spectral.apply_matrix(C, cyyy_RHS.data, axis=1)\n",
    "\n",
    "        ts.step(dt, BCs)\n",
    "        \n",
    "    c.require_coeff_space()\n",
    "    return c\n",
    "        \n",
    "            \n"
   ]
  },
  {
   "cell_type": "code",
   "execution_count": 22,
   "id": "3622611b",
   "metadata": {},
   "outputs": [
    {
     "name": "stdout",
     "output_type": "stream",
     "text": [
      "[0, 50]\n"
     ]
    },
    {
     "name": "stderr",
     "output_type": "stream",
     "text": [
      "c:\\Users\\gonza\\AppData\\Local\\Programs\\Python\\Python310\\lib\\site-packages\\scipy\\sparse\\_index.py:137: SparseEfficiencyWarning: Changing the sparsity structure of a csr_matrix is expensive. lil_matrix is more efficient.\n",
      "  self._set_arrayXarray_sparse(i, j, x)\n"
     ]
    },
    {
     "name": "stdout",
     "output_type": "stream",
     "text": [
      "[0, 50]\n",
      "[0, 50]\n",
      "[0, 50]\n",
      "[0, 50]\n",
      "[0, 50]\n"
     ]
    }
   ],
   "source": [
    "#code used to produce the resolution study \n",
    "Ns = [16,32,64,128,256,512]\n",
    "L=50\n",
    "error = np.zeros([5,1])\n",
    "wt = run(Ns[-1],L)\n",
    "wt.require_grid_space()\n",
    "j=0\n",
    "for N in Ns[:-1]:\n",
    "    w = run(N,L)\n",
    "    w.require_grid_space(scales=int(Ns[-1]/N))\n",
    "    error[j,0] = np.max(abs(wt.data-w.data))\n",
    "    j=j+1\n",
    "\n",
    "\n"
   ]
  },
  {
   "cell_type": "code",
   "execution_count": 17,
   "id": "3f11159c",
   "metadata": {},
   "outputs": [
    {
     "data": {
      "text/plain": [
       "Text(0.5, 1.0, 'Error with solution of resolution N=512')"
      ]
     },
     "execution_count": 17,
     "metadata": {},
     "output_type": "execute_result"
    },
    {
     "data": {
      "image/png": "[encoded data removed]",
      "text/plain": [
       "<Figure size 648x432 with 1 Axes>"
      ]
     },
     "metadata": {
      "needs_background": "light"
     },
     "output_type": "display_data"
    }
   ],
   "source": [
    " fig = plt.figure(figsize=(9,6))\n",
    "plt.plot(Ns[0:-1],error)\n",
    "plt.yscale('log')\n",
    "\n",
    "plt.ylabel('error log scale')\n",
    "plt.xlabel('N')\n",
    "plt.title('Error with solution of resolution N=512')\n",
    "\n"
   ]
  },
  {
   "cell_type": "code",
   "execution_count": null,
   "id": "ccec7d6f",
   "metadata": {},
   "outputs": [
    {
     "data": {
      "text/plain": [
       "array([[6.14112199e-01],\n",
       "       [5.71762568e-02],\n",
       "       [1.71459420e-04],\n",
       "       [5.18572557e-10],\n",
       "       [1.18793864e-13]])"
      ]
     },
     "execution_count": 5,
     "metadata": {},
     "output_type": "execute_result"
    }
   ],
   "source": [
    "error"
   ]
  },
  {
   "cell_type": "code",
   "execution_count": null,
   "id": "b80763ec",
   "metadata": {},
   "outputs": [
    {
     "name": "stdout",
     "output_type": "stream",
     "text": [
      "[-10, 10]\n"
     ]
    },
    {
     "data": {
      "image/png": "[encoded data removed]",
      "text/plain": [
       "<Figure size 1008x1008 with 2 Axes>"
      ]
     },
     "metadata": {
      "needs_background": "light"
     },
     "output_type": "display_data"
    }
   ],
   "source": [
    "error\n",
    "N=512; L=10\n",
    "y_basis = spectral.Chebyshev(N,[-L,L])\n",
    "x_basis = spectral.Fourier(N,[-L,L])\n",
    "x = x_basis.grid()[:, None]\n",
    "y = y_basis.grid()[None,:]\n",
    "y = np.linspace(-L,L,N, endpoint=True)\n",
    "xm, ym = np.meshgrid(x.ravel(), y.ravel())\n",
    "plot_2D_field(xm,ym,abs(w.data.T))\n"
   ]
  },
  {
   "cell_type": "code",
   "execution_count": null,
   "id": "06b13f72",
   "metadata": {},
   "outputs": [
    {
     "data": {
      "text/plain": [
       "array([[ 0.12080054, -0.7356694 , -0.66182313,  0.50531049,  0.2935156 ],\n",
       "       [ 0.54110506, -0.04607526,  0.99017245,  0.54128262, -0.35019221],\n",
       "       [-0.28151598, -0.4237538 , -0.87608664,  0.37561728, -0.12029691],\n",
       "       [ 0.54083444, -0.9270442 ,  0.37732374,  0.71349815, -0.642413  ],\n",
       "       [ 0.44296403, -0.46353864, -0.13996048,  0.38224722, -0.54329647]])"
      ]
     },
     "execution_count": 7,
     "metadata": {},
     "output_type": "execute_result"
    }
   ],
   "source": [
    "N=5\n",
    "rng = np.random.default_rng(seed=4200)\n",
    "(2*rng.random((N, N))-1)\n"
   ]
  },
  {
   "cell_type": "code",
   "execution_count": 19,
   "id": "d47c8b79",
   "metadata": {},
   "outputs": [
    {
     "name": "stdout",
     "output_type": "stream",
     "text": [
      "[0, 50]\n"
     ]
    },
    {
     "name": "stderr",
     "output_type": "stream",
     "text": [
      "c:\\Users\\gonza\\AppData\\Local\\Programs\\Python\\Python310\\lib\\site-packages\\scipy\\sparse\\_index.py:137: SparseEfficiencyWarning: Changing the sparsity structure of a csr_matrix is expensive. lil_matrix is more efficient.\n",
      "  self._set_arrayXarray_sparse(i, j, x)\n"
     ]
    },
    {
     "data": {
      "image/png": "[encoded data removed]",
      "text/plain": [
       "<Figure size 720x720 with 1 Axes>"
      ]
     },
     "metadata": {
      "needs_background": "light"
     },
     "output_type": "display_data"
    }
   ],
   "source": [
    "par = 1\n",
    "N=128 ; L=50\n",
    "y_basis = spectral.Chebyshev(N,[0,L])\n",
    "x_basis = spectral.Fourier(N,[0,L])\n",
    "\n",
    "c = spectral.Field([x_basis, y_basis])\n",
    "cy = spectral.Field([x_basis, y_basis])\n",
    "c_RHS = spectral.Field([x_basis, y_basis])\n",
    "cy_RHS = spectral.Field([x_basis, y_basis])\n",
    "cyy = spectral.Field([x_basis, y_basis])\n",
    "cyy_RHS = spectral.Field([x_basis, y_basis])\n",
    "cyyy = spectral.Field([x_basis, y_basis])\n",
    "cyyy_RHS = spectral.Field([x_basis, y_basis])\n",
    "x = x_basis.grid()[:, None]\n",
    "\n",
    "y = y_basis.grid()[None,:]\n",
    "y = np.linspace(-L,L,N, endpoint=True)\n",
    "xm, ym = np.meshgrid(x.ravel(), y.ravel())\n",
    "\n",
    "alpha = 0.5*(y_basis.interval[-1] - y_basis.interval[0]) \n",
    "\n",
    "dt = 1e-3\n",
    "\n",
    "\n",
    "problem = spectral.InitialValueProblem([c, cy,cyy,cyyy], [c_RHS, cy_RHS,cyy_RHS,cyyy_RHS], num_BCs=8)\n",
    "\n",
    "diag = (np.arange(N-1)+1)/alpha \n",
    "D = sparse.diags(diag, offsets=1)\n",
    "\n",
    "diag0 = np.ones(N)/2\n",
    "diag0[0] = 1\n",
    "diag2 = -np.ones(N-2)/2\n",
    "C = sparse.diags((diag0, diag2), offsets=(0,2))\n",
    "\n",
    "Z = sparse.csr_matrix((N, N))\n",
    "\n",
    "\n",
    "\n",
    "for sp in problem.subproblems:\n",
    "    n = sp.wavenumbers[0]\n",
    "    \n",
    "    sp.M = sparse.csr_matrix((8*N+8, 8*N+8))\n",
    "    sp.M[6*N:7*N, :N] = C\n",
    "    sp.M[7*N:8*N, N:2*N] = C\n",
    "    sp.M.eliminate_zeros()\n",
    "    \n",
    "    L = sparse.bmat([[       D,        Z,   -C,    Z,   Z,  Z,  Z,  Z],\n",
    "                    [       Z,        D,    Z,   -C,   Z,  Z,  Z,  Z],\n",
    "                    [       Z,        Z,    D,   Z,   -C,  Z,  Z,  Z],\n",
    "                    [       Z,        Z,    Z,   D,   Z,  -C,  Z,  Z],\n",
    "                    [       Z,        Z,    Z,   Z,   D,  Z,  -C,  Z],\n",
    "                    [       Z,        Z,    Z,   Z,   Z,  D,  Z,  -C],\n",
    "                    [(-C*2*n**2+C*n**4)-par*C+C,        Z, 2*D,   Z,(-2*C*n**2),Z,D,Z],\n",
    "                    [       Z, (-C*2*n**2+C*n**4)-par*C+C,    2*D,  Z,Z,(-C*2*n**2),Z,D]])\n",
    "    \n",
    "    \n",
    "    \n",
    "    i = np.arange(N)\n",
    "    BC_rows = np.zeros((8, 8*N))\n",
    "\n",
    "    BC_rows[0, :N] = (-1)**i\n",
    "    BC_rows[1, :N] = (+1)**i\n",
    "    BC_rows[2, N:2*N] = (-1)**i\n",
    "    BC_rows[3, N:2*N] = (+1)**i\n",
    "    BC_rows[4, 2*N:3*N] = (-1)**i\n",
    "    BC_rows[5, 2*N:3*N] = (+1)**i\n",
    "    BC_rows[6, 3*N:4*N] = (-1)**i\n",
    "    BC_rows[7, 3*N:4*N] = (+1)**i\n",
    "\n",
    "    \n",
    "    cols = np.zeros((8*N,8))\n",
    "    cols[  N-1, 0] = 1\n",
    "    cols[2*N-1, 1] = 1\n",
    "    cols[3*N-1, 2] = 1\n",
    "    cols[4*N-1, 3] = 1\n",
    "    cols[5*N-1, 4] = 1\n",
    "    cols[6*N-1, 5] = 1\n",
    "    cols[7*N-1, 6] = 1\n",
    "    cols[8*N-1, 7] = 1\n",
    "\n",
    "    \n",
    "    \n",
    "    corner = np.zeros((8,8))\n",
    "    \n",
    "    sp.L = sparse.bmat([[L, cols],\n",
    "                        [BC_rows, corner]])\n",
    "    \n",
    "    sp.L.eliminate_zeros()\n",
    "\n",
    "\n",
    "\n",
    "ts = spectral.SBDF2(problem)\n",
    "c.require_grid_space()\n",
    "rng = np.random.default_rng(seed=420)\n",
    "c.data = (rng.random((N, N)))*0.1\n",
    "\n",
    "\n",
    "c.require_grid_space()\n",
    "ims = []\n",
    "\n",
    "fig = plt.figure(figsize=(10,10))\n",
    "cmap= matplotlib.cm.get_cmap('RdBu_r')\n",
    "\n",
    "ax = fig.subplots(1)\n",
    "\n",
    "\n",
    "#pcm = ax.pcolormesh(xm, ym, c.data.T, cmap='RdBu', vmax=1)\n",
    "#ax.set_aspect(1)\n",
    "#fig.canvas.draw()\n",
    "#title = plt.title('t=%f' %ts.time)\n",
    "\n",
    "c.require_coeff_space()\n",
    "cyyy_RHS.require_coeff_space()\n",
    "\n",
    "BCs = np.array([0,0,0,0,0,0,0,0])\n",
    "\n",
    "for i in range(4000):\n",
    "    c.require_coeff_space()\n",
    "    cyyy_RHS.require_coeff_space()\n",
    "    c.require_grid_space(scales=2)\n",
    "    cyyy_RHS.require_grid_space(scales=2)\n",
    "        \n",
    "    cyyy_RHS.data = 4/5*c.data**2-1*c.data**3\n",
    "    cyyy_RHS.require_coeff_space()\n",
    "    cyyy_RHS.data = spectral.apply_matrix(C, cyyy_RHS.data, axis=1)\n",
    "\n",
    "    ts.step(dt, BCs)\n",
    "    \n",
    "\n",
    "\n",
    "\n",
    "    c.require_grid_space()\n",
    "\n",
    "    #clear_output(wait=True)\n",
    "    #plot_2D_field(xm,ym,c.data.T)\n",
    "    #title = plt.title('t=%f' %ts.time)\n",
    "    #plt.savefig('test'+str(i)+'.png')\n",
    "    #plt.close()\n",
    "\n",
    "\n",
    "    \n",
    "    im = ax.imshow(c.data.T, animated=True,cmap=cmap,vmin=-0.3,vmax=0.3)\n",
    "    ims.append([im])\n",
    "ani = animation.ArtistAnimation(fig, ims, interval=50, blit=False,\n",
    "                                repeat_delay=1000)\n",
    "writergif = animation.PillowWriter(fps=30)\n",
    "ani.save('filename.gif',writer=writergif)\n",
    "\n",
    "\n",
    "        \n",
    "   "
   ]
  },
  {
   "cell_type": "code",
   "execution_count": null,
   "id": "435ccc22",
   "metadata": {},
   "outputs": [
    {
     "ename": "ValueError",
     "evalue": "operands could not be broadcast together with shapes (256,256) (512,512) ",
     "output_type": "error",
     "traceback": [
      "\u001b[1;31m---------------------------------------------------------------------------\u001b[0m",
      "\u001b[1;31mValueError\u001b[0m                                Traceback (most recent call last)",
      "Input \u001b[1;32mIn [9]\u001b[0m, in \u001b[0;36m<cell line: 2>\u001b[1;34m()\u001b[0m\n\u001b[0;32m      1\u001b[0m c\u001b[38;5;241m.\u001b[39mrequire_grid_space()\n\u001b[1;32m----> 2\u001b[0m plot_2D_field(xm,ym,\u001b[38;5;28mabs\u001b[39m(\u001b[43mc\u001b[49m\u001b[38;5;241;43m.\u001b[39;49m\u001b[43mdata\u001b[49m\u001b[38;5;241;43m.\u001b[39;49m\u001b[43mT\u001b[49m\u001b[38;5;241;43m-\u001b[39;49m\u001b[43mw\u001b[49m\u001b[38;5;241;43m.\u001b[39;49m\u001b[43mdata\u001b[49m\u001b[38;5;241;43m.\u001b[39;49m\u001b[43mT\u001b[49m))\n",
      "\u001b[1;31mValueError\u001b[0m: operands could not be broadcast together with shapes (256,256) (512,512) "
     ]
    }
   ],
   "source": [
    "c.require_grid_space()\n",
    "plot_2D_field(xm,ym,abs(c.data.T-w.data.T))"
   ]
  },
  {
   "cell_type": "code",
   "execution_count": 7,
   "id": "1cc75295",
   "metadata": {},
   "outputs": [
    {
     "data": {
      "text/plain": [
       "array([ 0.    ,  1.5625,  3.125 ,  4.6875,  6.25  ,  7.8125,  9.375 ,\n",
       "       10.9375, 12.5   , 14.0625, 15.625 , 17.1875, 18.75  , 20.3125,\n",
       "       21.875 , 23.4375])"
      ]
     },
     "execution_count": 7,
     "metadata": {},
     "output_type": "execute_result"
    }
   ],
   "source": [
    "x_basis.grid()"
   ]
  },
  {
   "cell_type": "code",
   "execution_count": null,
   "id": "8d0f0d8d",
   "metadata": {},
   "outputs": [],
   "source": [
    "\n"
   ]
  },
  {
   "cell_type": "code",
   "execution_count": null,
   "id": "919f48b2",
   "metadata": {},
   "outputs": [],
   "source": []
  },
  {
   "cell_type": "code",
   "execution_count": null,
   "id": "55cb3101",
   "metadata": {},
   "outputs": [],
   "source": []
  },
  {
   "cell_type": "code",
   "execution_count": null,
   "id": "d55b67ca",
   "metadata": {},
   "outputs": [],
   "source": []
  },
  {
   "cell_type": "code",
   "execution_count": null,
   "id": "a39165fc",
   "metadata": {},
   "outputs": [],
   "source": []
  },
  {
   "cell_type": "code",
   "execution_count": null,
   "id": "7d7a4709",
   "metadata": {},
   "outputs": [],
   "source": [
    "\n"
   ]
  },
  {
   "cell_type": "code",
   "execution_count": null,
   "id": "4602337d",
   "metadata": {},
   "outputs": [],
   "source": []
  }
 ],
 "metadata": {
  "kernelspec": {
   "display_name": "Python 3",
   "language": "python",
   "name": "python3"
  },
  "language_info": {
   "codemirror_mode": {
    "name": "ipython",
    "version": 3
   },
   "file_extension": ".py",
   "mimetype": "text/x-python",
   "name": "python",
   "nbconvert_exporter": "python",
   "pygments_lexer": "ipython3",
   "version": "3.10.5"
  }
 },
 "nbformat": 4,
 "nbformat_minor": 5
}
